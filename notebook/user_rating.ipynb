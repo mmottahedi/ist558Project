{
 "cells": [
  {
   "cell_type": "code",
   "execution_count": 1,
   "metadata": {
    "collapsed": true
   },
   "outputs": [],
   "source": [
    "import numpy as np\n",
    "import pandas as pd \n",
    "import matplotlib.pyplot as plt\n",
    "import feather\n",
    "import scipy as sp \n",
    "import time\n",
    "from sklearn.manifold import spectral_embedding\n",
    "from sklearn.cluster import spectral_clustering\n",
    "from sklearn.cluster.spectral import SpectralClustering\n",
    "from sklearn.metrics import pairwise_distances\n",
    "from sklearn.metrics.pairwise import *\n",
    "import pickle\n",
    "from sklearn.utils.graph import graph_laplacian\n",
    "from sklearn.utils.arpack import eigsh\n",
    "from sklearn.manifold.spectral_embedding_ import _set_diag\n",
    "from scipy.linalg import eigvals, eigvalsh\n",
    "import seaborn\n",
    "from matplotlib.backends.backend_pdf import PdfPages\n",
    "\n",
    "\n",
    "%matplotlib inline"
   ]
  },
  {
   "cell_type": "code",
   "execution_count": 2,
   "metadata": {
    "collapsed": true
   },
   "outputs": [],
   "source": [
    "recom = pd.read_csv('../data/5plus_recommended.csv')"
   ]
  },
  {
   "cell_type": "code",
   "execution_count": 4,
   "metadata": {},
   "outputs": [
    {
     "data": {
      "text/plain": [
       "Index([u'biz_id', u'0', u'1', u'2', u'3', u'4', u'5', u'6', u'7', u'8',\n",
       "       ...\n",
       "       u'12521', u'12522', u'12523', u'12524', u'12525', u'12526', u'12527',\n",
       "       u'12528', u'12529', u'12530'],\n",
       "      dtype='object', length=12532)"
      ]
     },
     "execution_count": 4,
     "metadata": {},
     "output_type": "execute_result"
    }
   ],
   "source": [
    "recom.columns"
   ]
  },
  {
   "cell_type": "code",
   "execution_count": null,
   "metadata": {
    "collapsed": true
   },
   "outputs": [],
   "source": [
    "similarity = cosine_similarity(recom.iloc[:, 1:].values)"
   ]
  },
  {
   "cell_type": "code",
   "execution_count": null,
   "metadata": {
    "collapsed": true
   },
   "outputs": [],
   "source": [
    "similarity = cosine_similarity(recom.iloc[:, 1:].values)\n",
    "normed_laplacian, dd = graph_laplacian(similarity, normed=True, return_diag=True)\n",
    "laplacian = _set_diag(normed_laplacian, 1, 0)\n",
    "\n",
    "\n",
    "n_components = similarity.shape[0] - 1\n",
    "\n",
    "\n",
    "eigenvalues, eigenvectors = eigsh(-laplacian, k=20, which=\"LM\", sigma=1.0, maxiter=5000)\n",
    "# eigenvalues = eigvalsh(-laplacian)\n",
    "eigenvalues = -eigenvalues[::-1]  # Reverse and sign inversion.\n",
    "\n",
    "max_gap = 0\n",
    "gap_pre_index = 0\n",
    "gaps = []\n",
    "for i in range(1, eigenvalues.size):\n",
    "    gap = eigenvalues[i] - eigenvalues[i - 1]\n",
    "    gaps.append(gap)\n",
    "    if gap > max_gap:\n",
    "        max_gap = gap\n",
    "        gap_pre_index = i - 1\n",
    "\n",
    "k = gap_pre_index + 1\n",
    "plt.plot(range(1, eigenvalues.size)[1:20], gaps[1:20], '-o')"
   ]
  },
  {
   "cell_type": "code",
   "execution_count": null,
   "metadata": {
    "collapsed": true
   },
   "outputs": [],
   "source": [
    "plt.figure(num=None, figsize=(8, 6), dpi=80, facecolor='w', edgecolor='k')\n",
    "plt.plot(range(1, eigenvalues.size)[1:20], gaps[1:20], '-o')\n",
    "plt.ylabel('eigenGap')\n",
    "plt.savefig('../report/eigengap-recom.pdf', format='pdf')"
   ]
  },
  {
   "cell_type": "code",
   "execution_count": null,
   "metadata": {
    "collapsed": true
   },
   "outputs": [],
   "source": [
    "plt.figure(num=None, figsize=(8, 6), dpi=80, facecolor='w', edgecolor='k')\n",
    "plt.plot(range(0,20), eigenvalues[:20], 'o')\n",
    "plt.ylabel('eigenValue')\n",
    "plt.savefig('../report/eigenvalues-recom.pdf', format='pdf')"
   ]
  },
  {
   "cell_type": "code",
   "execution_count": null,
   "metadata": {
    "collapsed": true
   },
   "outputs": [],
   "source": [
    "cl = SpectralClustering(n_clusters=7,\n",
    "                        assign_labels='discretize', affinity='precomputed', \n",
    "                        eigen_solver='amg',\n",
    "                        n_jobs=-1)\n",
    "\n",
    "label = cl.fit_predict(similarity)"
   ]
  },
  {
   "cell_type": "code",
   "execution_count": null,
   "metadata": {
    "collapsed": true
   },
   "outputs": [],
   "source": [
    "plt.hist(label)"
   ]
  },
  {
   "cell_type": "code",
   "execution_count": null,
   "metadata": {
    "collapsed": true
   },
   "outputs": [],
   "source": [
    "indx = recom.biz_id\n",
    "labels = pd.DataFrame({'biz_id' :  indx, 'label' : label})\n",
    "labels.to_csv('../data/recomm_spectral_clustering_discretize.label.csv')"
   ]
  }
 ],
 "metadata": {
  "kernelspec": {
   "display_name": "Python ist558",
   "language": "python",
   "name": "myenv"
  },
  "language_info": {
   "codemirror_mode": {
    "name": "ipython",
    "version": 2
   },
   "file_extension": ".py",
   "mimetype": "text/x-python",
   "name": "python",
   "nbconvert_exporter": "python",
   "pygments_lexer": "ipython2",
   "version": "2.7.12"
  }
 },
 "nbformat": 4,
 "nbformat_minor": 2
}
