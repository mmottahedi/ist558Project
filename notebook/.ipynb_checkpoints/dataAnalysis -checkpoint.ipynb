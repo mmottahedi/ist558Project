{
 "cells": [
  {
   "cell_type": "code",
   "execution_count": 1,
   "metadata": {},
   "outputs": [
    {
     "name": "stdout",
     "output_type": "stream",
     "text": [
      "Automatically created module for IPython interactive environment\n"
     ]
    }
   ],
   "source": [
    "print(__doc__)\n",
    "import numpy as np \n",
    "import pandas as pd \n",
    "import matplotlib.pyplot as plt\n",
    "import seaborn as sn\n",
    "import re\n",
    "import pickle\n",
    "import feather\n",
    "\n",
    "import scipy as sp \n",
    "import time\n",
    "from sklearn.manifold import spectral_embedding\n",
    "from sklearn.cluster import spectral_clustering\n",
    "from sklearn.cluster.spectral import SpectralClustering\n",
    "from sklearn.feature_extraction import img_to_graph\n",
    "from sklearn.metrics import pairwise_distances\n",
    "from sklearn.metrics.pairwise import *\n",
    "\n",
    "\n",
    "%matplotlib inline"
   ]
  },
  {
   "cell_type": "code",
   "execution_count": 2,
   "metadata": {
    "collapsed": true
   },
   "outputs": [],
   "source": [
    "reviews = pd.read_csv('../data/table_review.csv', index_col='Buisness_id')\n",
    "biz = pd.read_csv('../data/table_business.csv')\n",
    "rests_id = biz.Business_id.loc[biz['Categories'].str.contains('Restaurants') == True]\n",
    "rests = reviews.loc[rests_id.values, :]"
   ]
  },
  {
   "cell_type": "code",
   "execution_count": 22,
   "metadata": {
    "collapsed": true
   },
   "outputs": [],
   "source": [
    "filtered_rest = pd.read_csv('../data/5more_biz_id.csv')"
   ]
  },
  {
   "cell_type": "code",
   "execution_count": 81,
   "metadata": {},
   "outputs": [
    {
     "ename": "MemoryError",
     "evalue": "",
     "output_type": "error",
     "traceback": [
      "\u001b[0;31m---------------------------------------------------------------------------\u001b[0m",
      "\u001b[0;31mMemoryError\u001b[0m                               Traceback (most recent call last)",
      "\u001b[0;32m<ipython-input-81-2030ea666956>\u001b[0m in \u001b[0;36m<module>\u001b[0;34m()\u001b[0m\n\u001b[1;32m     14\u001b[0m \u001b[0mkeep_rest_list\u001b[0m \u001b[0;34m=\u001b[0m \u001b[0mnp\u001b[0m\u001b[0;34m.\u001b[0m\u001b[0marray\u001b[0m\u001b[0;34m(\u001b[0m\u001b[0;34m[\u001b[0m\u001b[0;34m]\u001b[0m\u001b[0;34m)\u001b[0m\u001b[0;34m\u001b[0m\u001b[0m\n\u001b[1;32m     15\u001b[0m \u001b[0;34m\u001b[0m\u001b[0m\n\u001b[0;32m---> 16\u001b[0;31m \u001b[0mM\u001b[0m \u001b[0;34m=\u001b[0m \u001b[0mnp\u001b[0m\u001b[0;34m.\u001b[0m\u001b[0mzeros\u001b[0m\u001b[0;34m(\u001b[0m\u001b[0;34m(\u001b[0m\u001b[0mm\u001b[0m\u001b[0;34m,\u001b[0m \u001b[0mn\u001b[0m\u001b[0;34m)\u001b[0m\u001b[0;34m,\u001b[0m \u001b[0mdtype\u001b[0m\u001b[0;34m=\u001b[0m\u001b[0mnp\u001b[0m\u001b[0;34m.\u001b[0m\u001b[0mint\u001b[0m\u001b[0;34m)\u001b[0m\u001b[0;34m\u001b[0m\u001b[0m\n\u001b[0m\u001b[1;32m     17\u001b[0m \u001b[0mM\u001b[0m \u001b[0;34m=\u001b[0m \u001b[0mpd\u001b[0m\u001b[0;34m.\u001b[0m\u001b[0mDataFrame\u001b[0m\u001b[0;34m(\u001b[0m\u001b[0mM\u001b[0m\u001b[0;34m,\u001b[0m \u001b[0mcolumns\u001b[0m\u001b[0;34m=\u001b[0m\u001b[0musr_indx\u001b[0m\u001b[0;34m,\u001b[0m \u001b[0mindex\u001b[0m\u001b[0;34m=\u001b[0m\u001b[0mrest_indx\u001b[0m\u001b[0;34m)\u001b[0m\u001b[0;34m\u001b[0m\u001b[0m\n",
      "\u001b[0;31mMemoryError\u001b[0m: "
     ]
    }
   ],
   "source": [
    "# similarity matrix: m resturants x n users\n",
    "\n",
    "# rest_indx = rests.index.unique()\n",
    "# usr_indx = rests.User_id.unique()\n",
    "\n",
    "\n",
    "rest_indx = filtered_rest.dropna().biz_id.values\n",
    "usr_indx = rests.loc[rest_indx, 'User_id'].unique()\n",
    "\n",
    "m = rest_indx.shape[0]\n",
    "n = usr_indx.shape[0]\n",
    "\n",
    "\n",
    "keep_rest_list = np.array([])\n",
    "\n",
    "M = np.zeros((m, n), dtype=np.int)\n",
    "M = pd.DataFrame(M, columns=usr_indx, index=rest_indx)"
   ]
  },
  {
   "cell_type": "code",
   "execution_count": null,
   "metadata": {
    "collapsed": true
   },
   "outputs": [],
   "source": [
    "for i in range(m):\n",
    "    \n",
    "    indx = M.loc[rest_indx[i], rests.User_id.loc[rest_indx[i]]].shape\n",
    "    if indx:\n",
    "        if indx[0] > 5:\n",
    "            keep_rest_list = np.append(keep_rest_list, rest_indx[i])\n",
    "            M.loc[rests.index[i],rests.User_id.loc[rests.index[i]]] = 1    "
   ]
  },
  {
   "cell_type": "code",
   "execution_count": 27,
   "metadata": {
    "collapsed": true
   },
   "outputs": [],
   "source": [
    "M_small = M.loc[keep_rest_list, :]\n",
    "a = M_small.copy()\n",
    "feather.write_dataframe(a, '../data/sim_matrix_5more.feather')"
   ]
  },
  {
   "cell_type": "code",
   "execution_count": 28,
   "metadata": {
    "collapsed": true
   },
   "outputs": [],
   "source": [
    "a = pd.DataFrame({'biz_id': M_small.index.values})\n",
    "a.to_csv('../data/5more_biz_id.csv')"
   ]
  }
 ],
 "metadata": {
  "kernelspec": {
   "display_name": "Python ist558",
   "language": "python",
   "name": "myenv"
  },
  "language_info": {
   "codemirror_mode": {
    "name": "ipython",
    "version": 2
   },
   "file_extension": ".py",
   "mimetype": "text/x-python",
   "name": "python",
   "nbconvert_exporter": "python",
   "pygments_lexer": "ipython2",
   "version": "2.7.12"
  }
 },
 "nbformat": 4,
 "nbformat_minor": 2
}
