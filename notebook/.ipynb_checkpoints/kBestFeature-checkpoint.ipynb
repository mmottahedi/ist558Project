{
 "cells": [
  {
   "cell_type": "code",
   "execution_count": null,
   "metadata": {},
   "outputs": [],
   "source": [
    "import numpy as np\n",
    "import pandas as pd \n",
    "import matplotlib.pyplot as plt\n",
    "import feather\n",
    "import scipy as sp \n",
    "from time import time\n",
    "from sklearn.manifold import spectral_embedding\n",
    "from sklearn.cluster import spectral_clustering\n",
    "from sklearn.cluster.spectral import SpectralClustering\n",
    "from sklearn.metrics import pairwise_distances\n",
    "from sklearn.metrics.pairwise import *\n",
    "import pickle\n",
    "from sklearn.utils.graph import graph_laplacian\n",
    "from sklearn.utils.arpack import eigsh\n",
    "from sklearn.manifold.spectral_embedding_ import _set_diag\n",
    "from scipy.linalg import eigvals, eigvalsh\n",
    "import seaborn\n",
    "from matplotlib.backends.backend_pdf import PdfPages\n",
    "from sklearn.grid_search import GridSearchCV\n",
    "from sklearn import tree\n",
    "from sklearn.feature_selection import SelectKBest\n",
    "from sklearn.cross_validation import train_test_split\n",
    "\n",
    "\n",
    "\n",
    "%matplotlib inline"
   ]
  },
  {
   "cell_type": "code",
   "execution_count": null,
   "metadata": {
    "collapsed": true
   },
   "outputs": [],
   "source": [
    "def test_clf(grid_search, features, labels, parameters, iterations=100):\n",
    "    from sklearn.metrics import classification_report\n",
    "    precision, recall = [], []\n",
    "    for iteration in range(iterations):\n",
    "        features_train, features_test, labels_train, labels_test = train_test_split(features, labels, random_state=iteration)\n",
    "        grid_search.fit(features_train, labels_train)\n",
    "        predictions = grid_search.predict(features_test)\n",
    "    print classification_report(labels_test, predictions)\n",
    "    best_params = grid_search.best_estimator_.get_params()\n",
    "    for param_name in sorted(parameters.keys()):\n",
    "        print '%s=%r, ' % (param_name, best_params[param_name])"
   ]
  },
  {
   "cell_type": "code",
   "execution_count": null,
   "metadata": {
    "collapsed": true
   },
   "outputs": [],
   "source": [
    "label = pd.read_csv('../data/recomm_spectral_clustering_discretize.label.csv', index_col='biz_id')\n",
    "precom = pd.read_csv('../data/tfidf_all_biz_1percom.csv', index_col='biz_id')"
   ]
  },
  {
   "cell_type": "code",
   "execution_count": null,
   "metadata": {},
   "outputs": [],
   "source": [
    "for biz in label.index:\n",
    "    precom.loc[biz, 'label' ] = label.label.loc[biz]"
   ]
  },
  {
   "cell_type": "code",
   "execution_count": null,
   "metadata": {
    "collapsed": true
   },
   "outputs": [],
   "source": [
    "precom_na = precom.dropna()\n",
    "features = precom_na.drop('label', axis=1).values\n",
    "labels = precom_na.label.values"
   ]
  },
  {
   "cell_type": "code",
   "execution_count": null,
   "metadata": {},
   "outputs": [],
   "source": [
    "clf = tree.DecisionTreeClassifier()\n",
    "t0= time()\n",
    "parameters = {'criterion': ['gini', 'entropy'],\n",
    "               'min_samples_split': [2, 10, 20],\n",
    "               'max_depth': [None, 2, 5, 10],\n",
    "               'min_samples_leaf': [1, 5, 10],\n",
    "               'max_leaf_nodes': [None, 5, 10, 20]}\n",
    "grid_search = GridSearchCV(clf, parameters)\n",
    "for i in [2,3,4,5]:\n",
    "    k_best = SelectKBest(k=i)\n",
    "    k_features = k_best.fit_transform(features, labels)\n",
    "    print \"K best features with k = {0}\".format(i)\n",
    "    test_clf(grid_search, k_features, labels, parameters)\n",
    "\n",
    "print '\\nDecision Tree  (Best k features):'\n",
    "\n",
    "print '\\nDecision Tree total time:{0}s'.format(round(time()-t0, 3))"
   ]
  },
  {
   "cell_type": "code",
   "execution_count": null,
   "metadata": {},
   "outputs": [],
   "source": [
    "from sklearn.ensemble import AdaBoostClassifier\n",
    "from time import time\n",
    "clf = AdaBoostClassifier()\n",
    "t0= time()\n",
    "parameters = {'n_estimators': [10, 20, 40],\n",
    "               'algorithm': ['SAMME', 'SAMME.R'],\n",
    "               'learning_rate': [.5, 1, 1.5]}\n",
    "grid_search = GridSearchCV(clf, parameters)\n",
    "for i in [2,3,4,5]:\n",
    "    k_best = SelectKBest(k=i)\n",
    "    k_features = k_best.fit_transform(features, labels)\n",
    "    print \"K best features with k = {0}\".format(i)\n",
    "    test_clf(grid_search, k_features, labels, parameters)\n",
    "\n",
    "print '\\nAdaBoost (Best k features):'\n",
    "\n",
    "print '\\nAdaBoost total time:{0}s'.format(round(time()-t0, 3))"
   ]
  },
  {
   "cell_type": "code",
   "execution_count": null,
   "metadata": {},
   "outputs": [],
   "source": [
    "k_features.shape"
   ]
  }
 ],
 "metadata": {
  "kernelspec": {
   "display_name": "Python ist558",
   "language": "python",
   "name": "myenv"
  },
  "language_info": {
   "codemirror_mode": {
    "name": "ipython",
    "version": 2
   },
   "file_extension": ".py",
   "mimetype": "text/x-python",
   "name": "python",
   "nbconvert_exporter": "python",
   "pygments_lexer": "ipython2",
   "version": "2.7.12"
  }
 },
 "nbformat": 4,
 "nbformat_minor": 2
}
